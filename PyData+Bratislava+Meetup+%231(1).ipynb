{
 "cells": [
  {
   "cell_type": "markdown",
   "metadata": {
    "nbpresent": {
     "id": "6d8bfcaf-19e5-43ae-9c50-0604057a0b6a"
    },
    "slideshow": {
     "slide_type": "subslide"
    }
   },
   "source": [
    "# PyData Twitter Analysis\n",
    "Because why not?\n",
    "\n"
   ]
  },
  {
   "cell_type": "code",
   "execution_count": 70,
   "metadata": {
    "collapsed": false
   },
   "outputs": [
    {
     "data": {
      "text/html": [
       "<div>\n",
       "<table border=\"1\" class=\"dataframe\">\n",
       "  <thead>\n",
       "    <tr style=\"text-align: right;\">\n",
       "      <th></th>\n",
       "      <th>Tweet id</th>\n",
       "      <th>Tweet permalink</th>\n",
       "      <th>Tweet text</th>\n",
       "      <th>time</th>\n",
       "      <th>impressions</th>\n",
       "      <th>engagements</th>\n",
       "      <th>engagement rate</th>\n",
       "      <th>retweets</th>\n",
       "      <th>replies</th>\n",
       "      <th>likes</th>\n",
       "      <th>...</th>\n",
       "      <th>promoted hashtag clicks</th>\n",
       "      <th>promoted detail expands</th>\n",
       "      <th>promoted permalink clicks</th>\n",
       "      <th>promoted app opens</th>\n",
       "      <th>promoted app installs</th>\n",
       "      <th>promoted follows</th>\n",
       "      <th>promoted email tweet</th>\n",
       "      <th>promoted dial phone</th>\n",
       "      <th>promoted media views</th>\n",
       "      <th>promoted media engagements</th>\n",
       "    </tr>\n",
       "  </thead>\n",
       "  <tbody>\n",
       "    <tr>\n",
       "      <th>0</th>\n",
       "      <td>830196933801148416</td>\n",
       "      <td>https://twitter.com/PyDataBA/status/8301969338...</td>\n",
       "      <td>@petolauri &amp;amp; #PyData sticker is on its way...</td>\n",
       "      <td>2017-02-10 23:29 +0000</td>\n",
       "      <td>56.0</td>\n",
       "      <td>2.0</td>\n",
       "      <td>0.035714</td>\n",
       "      <td>0.0</td>\n",
       "      <td>1.0</td>\n",
       "      <td>0.0</td>\n",
       "      <td>...</td>\n",
       "      <td>-</td>\n",
       "      <td>-</td>\n",
       "      <td>-</td>\n",
       "      <td>-</td>\n",
       "      <td>-</td>\n",
       "      <td>-</td>\n",
       "      <td>-</td>\n",
       "      <td>-</td>\n",
       "      <td>-</td>\n",
       "      <td>-</td>\n",
       "    </tr>\n",
       "    <tr>\n",
       "      <th>1</th>\n",
       "      <td>829622225317793792</td>\n",
       "      <td>https://twitter.com/PyDataBA/status/8296222253...</td>\n",
       "      <td>Ba dum tsss... https://t.co/RljzEFg7Su</td>\n",
       "      <td>2017-02-09 09:25 +0000</td>\n",
       "      <td>73.0</td>\n",
       "      <td>1.0</td>\n",
       "      <td>0.013699</td>\n",
       "      <td>0.0</td>\n",
       "      <td>0.0</td>\n",
       "      <td>1.0</td>\n",
       "      <td>...</td>\n",
       "      <td>-</td>\n",
       "      <td>-</td>\n",
       "      <td>-</td>\n",
       "      <td>-</td>\n",
       "      <td>-</td>\n",
       "      <td>-</td>\n",
       "      <td>-</td>\n",
       "      <td>-</td>\n",
       "      <td>-</td>\n",
       "      <td>-</td>\n",
       "    </tr>\n",
       "    <tr>\n",
       "      <th>2</th>\n",
       "      <td>829499621873426432</td>\n",
       "      <td>https://twitter.com/PyDataBA/status/8294996218...</td>\n",
       "      <td>True story. https://t.co/zHijaoqGHy</td>\n",
       "      <td>2017-02-09 01:18 +0000</td>\n",
       "      <td>74.0</td>\n",
       "      <td>0.0</td>\n",
       "      <td>0.000000</td>\n",
       "      <td>0.0</td>\n",
       "      <td>0.0</td>\n",
       "      <td>0.0</td>\n",
       "      <td>...</td>\n",
       "      <td>-</td>\n",
       "      <td>-</td>\n",
       "      <td>-</td>\n",
       "      <td>-</td>\n",
       "      <td>-</td>\n",
       "      <td>-</td>\n",
       "      <td>-</td>\n",
       "      <td>-</td>\n",
       "      <td>-</td>\n",
       "      <td>-</td>\n",
       "    </tr>\n",
       "    <tr>\n",
       "      <th>3</th>\n",
       "      <td>829288971649822720</td>\n",
       "      <td>https://twitter.com/PyDataBA/status/8292889716...</td>\n",
       "      <td>cc: @MansellMarek https://t.co/POLv7WflQF</td>\n",
       "      <td>2017-02-08 11:21 +0000</td>\n",
       "      <td>69.0</td>\n",
       "      <td>3.0</td>\n",
       "      <td>0.043478</td>\n",
       "      <td>1.0</td>\n",
       "      <td>0.0</td>\n",
       "      <td>1.0</td>\n",
       "      <td>...</td>\n",
       "      <td>-</td>\n",
       "      <td>-</td>\n",
       "      <td>-</td>\n",
       "      <td>-</td>\n",
       "      <td>-</td>\n",
       "      <td>-</td>\n",
       "      <td>-</td>\n",
       "      <td>-</td>\n",
       "      <td>-</td>\n",
       "      <td>-</td>\n",
       "    </tr>\n",
       "    <tr>\n",
       "      <th>4</th>\n",
       "      <td>829016167415164930</td>\n",
       "      <td>https://twitter.com/PyDataBA/status/8290161674...</td>\n",
       "      <td>R.I.P. @HansRosling https://t.co/xb9oXZ3DuT</td>\n",
       "      <td>2017-02-07 17:17 +0000</td>\n",
       "      <td>159.0</td>\n",
       "      <td>1.0</td>\n",
       "      <td>0.006289</td>\n",
       "      <td>0.0</td>\n",
       "      <td>0.0</td>\n",
       "      <td>1.0</td>\n",
       "      <td>...</td>\n",
       "      <td>-</td>\n",
       "      <td>-</td>\n",
       "      <td>-</td>\n",
       "      <td>-</td>\n",
       "      <td>-</td>\n",
       "      <td>-</td>\n",
       "      <td>-</td>\n",
       "      <td>-</td>\n",
       "      <td>-</td>\n",
       "      <td>-</td>\n",
       "    </tr>\n",
       "  </tbody>\n",
       "</table>\n",
       "<p>5 rows × 40 columns</p>\n",
       "</div>"
      ],
      "text/plain": [
       "             Tweet id                                    Tweet permalink  \\\n",
       "0  830196933801148416  https://twitter.com/PyDataBA/status/8301969338...   \n",
       "1  829622225317793792  https://twitter.com/PyDataBA/status/8296222253...   \n",
       "2  829499621873426432  https://twitter.com/PyDataBA/status/8294996218...   \n",
       "3  829288971649822720  https://twitter.com/PyDataBA/status/8292889716...   \n",
       "4  829016167415164930  https://twitter.com/PyDataBA/status/8290161674...   \n",
       "\n",
       "                                          Tweet text                    time  \\\n",
       "0  @petolauri &amp; #PyData sticker is on its way...  2017-02-10 23:29 +0000   \n",
       "1             Ba dum tsss... https://t.co/RljzEFg7Su  2017-02-09 09:25 +0000   \n",
       "2                True story. https://t.co/zHijaoqGHy  2017-02-09 01:18 +0000   \n",
       "3          cc: @MansellMarek https://t.co/POLv7WflQF  2017-02-08 11:21 +0000   \n",
       "4        R.I.P. @HansRosling https://t.co/xb9oXZ3DuT  2017-02-07 17:17 +0000   \n",
       "\n",
       "   impressions  engagements  engagement rate  retweets  replies  likes  \\\n",
       "0         56.0          2.0         0.035714       0.0      1.0    0.0   \n",
       "1         73.0          1.0         0.013699       0.0      0.0    1.0   \n",
       "2         74.0          0.0         0.000000       0.0      0.0    0.0   \n",
       "3         69.0          3.0         0.043478       1.0      0.0    1.0   \n",
       "4        159.0          1.0         0.006289       0.0      0.0    1.0   \n",
       "\n",
       "              ...              promoted hashtag clicks  \\\n",
       "0             ...                                    -   \n",
       "1             ...                                    -   \n",
       "2             ...                                    -   \n",
       "3             ...                                    -   \n",
       "4             ...                                    -   \n",
       "\n",
       "   promoted detail expands  promoted permalink clicks  promoted app opens  \\\n",
       "0                        -                          -                   -   \n",
       "1                        -                          -                   -   \n",
       "2                        -                          -                   -   \n",
       "3                        -                          -                   -   \n",
       "4                        -                          -                   -   \n",
       "\n",
       "   promoted app installs  promoted follows  promoted email tweet  \\\n",
       "0                      -                 -                     -   \n",
       "1                      -                 -                     -   \n",
       "2                      -                 -                     -   \n",
       "3                      -                 -                     -   \n",
       "4                      -                 -                     -   \n",
       "\n",
       "   promoted dial phone  promoted media views  promoted media engagements  \n",
       "0                    -                     -                           -  \n",
       "1                    -                     -                           -  \n",
       "2                    -                     -                           -  \n",
       "3                    -                     -                           -  \n",
       "4                    -                     -                           -  \n",
       "\n",
       "[5 rows x 40 columns]"
      ]
     },
     "execution_count": 70,
     "metadata": {},
     "output_type": "execute_result"
    }
   ],
   "source": [
    "import pandas as pd\n",
    "\n",
    "tweets = pd.read_csv(\"tweet_activity_metrics_PyDataBA_20170120_20170212_en.csv\")\n",
    "tweets.head()"
   ]
  },
  {
   "cell_type": "code",
   "execution_count": 71,
   "metadata": {
    "collapsed": true
   },
   "outputs": [],
   "source": [
    "import matplotlib.pyplot as plt\n",
    "import numpy as np\n",
    "%matplotlib inline"
   ]
  },
  {
   "cell_type": "code",
   "execution_count": 72,
   "metadata": {
    "collapsed": false
   },
   "outputs": [
    {
     "data": {
      "image/png": "[encoded data removed]",
      "text/plain": [
       "<matplotlib.figure.Figure at 0xe920c81ba8>"
      ]
     },
     "metadata": {},
     "output_type": "display_data"
    },
    {
     "name": "stdout",
     "output_type": "stream",
     "text": [
      "0.000000    2\n",
      "0.012658    1\n",
      "0.025641    1\n",
      "0.054795    1\n",
      "0.006289    1\n",
      "0.012346    1\n",
      "0.018809    1\n",
      "0.043478    1\n",
      "0.036269    1\n",
      "0.051948    1\n",
      "0.013699    1\n",
      "0.025203    1\n",
      "0.018315    1\n",
      "0.009611    1\n",
      "0.023810    1\n",
      "0.013870    1\n",
      "0.035714    1\n",
      "Name: engagement rate, dtype: int64\n"
     ]
    }
   ],
   "source": [
    "counts = tweets[\"engagement rate\"].value_counts()\n",
    "plt.bar(range(len(counts)), counts)\n",
    "plt.show()\n",
    "\n",
    "print(counts)"
   ]
  },
  {
   "cell_type": "code",
   "execution_count": 87,
   "metadata": {
    "collapsed": false
   },
   "outputs": [
    {
     "data": {
      "image/png": "[encoded data removed]",
      "text/plain": [
       "<matplotlib.figure.Figure at 0xe923191860>"
      ]
     },
     "metadata": {},
     "output_type": "display_data"
    }
   ],
   "source": [
    "fig, axes = plt.subplots(nrows=2, ncols=2)\n",
    "ax0, ax1, ax2, ax3 = axes.flat\n",
    "\n",
    "ax0.hist(tweets[\"impressions\"])\n",
    "ax0.set_title('Impressions all')\n",
    "ax1.hist(tweets[\"engagement rate\"])\n",
    "ax1.set_title('Engagement rate')\n",
    "ax2.hist(tweets[\"replies\"])\n",
    "ax2.set_title('Replies all')\n",
    "ax3.hist(tweets[\"retweets\"])\n",
    "ax3.set_title('Retweets all')\n",
    "\n",
    "plt.tight_layout()\n",
    "plt.show()"
   ]
  },
  {
   "cell_type": "code",
   "execution_count": 88,
   "metadata": {
    "collapsed": false
   },
   "outputs": [
    {
     "ename": "SyntaxError",
     "evalue": "Missing parentheses in call to 'print' (<ipython-input-88-8d0ed0f59632>, line 5)",
     "output_type": "error",
     "traceback": [
      "\u001b[0;36m  File \u001b[0;32m\"<ipython-input-88-8d0ed0f59632>\"\u001b[0;36m, line \u001b[0;32m5\u001b[0m\n\u001b[0;31m    print the_page\u001b[0m\n\u001b[0m                 ^\u001b[0m\n\u001b[0;31mSyntaxError\u001b[0m\u001b[0;31m:\u001b[0m Missing parentheses in call to 'print'\n"
     ]
    }
   ],
   "source": [
    "    import urllib\n",
    "    data = urllib.urlencode({\"text\": \"I'm a very good boy \"}) \n",
    "    u = urllib.urlopen(\"http://text-processing.com/api/sentiment/\", data)\n",
    "    the_page = u.read()\n",
    "    print the_page"
   ]
  },
  {
   "cell_type": "code",
   "execution_count": null,
   "metadata": {
    "collapsed": true
   },
   "outputs": [],
   "source": []
  }
 ],
 "metadata": {
  "anaconda-cloud": {
   "attach-environment": true,
   "summary": "PyData Bratislava Meetup #1"
  },
  "celltoolbar": "Slideshow",
  "kernelspec": {
   "display_name": "Python [conda root]",
   "language": "python",
   "name": "conda-root-py"
  },
  "language_info": {
   "codemirror_mode": {
    "name": "ipython",
    "version": 3
   },
   "file_extension": ".py",
   "mimetype": "text/x-python",
   "name": "python",
   "nbconvert_exporter": "python",
   "pygments_lexer": "ipython3",
   "version": "3.5.2"
  },
  "nbpresent": {
   "slides": {
    "c14d0d9e-3178-4635-82b5-d854f824cccc": {
     "id": "c14d0d9e-3178-4635-82b5-d854f824cccc",
     "layout": "grid",
     "prev": null,
     "regions": {
      "213efc54-6c2b-4e3b-bde7-5b34cc1519e6": {
       "attrs": {
        "height": 1,
        "pad": 0.01,
        "treemap:weight": 1,
        "width": 0.5,
        "x": 0,
        "y": 0
       },
       "content": {
        "cell": "c39d75c4-5ec1-4d35-99d0-9119a6abfc29",
        "part": "whole"
       },
       "id": "213efc54-6c2b-4e3b-bde7-5b34cc1519e6"
      },
      "29ed1050-eb29-47a3-a8df-23775555b5d0": {
       "attrs": {
        "height": 1,
        "pad": 0.01,
        "treemap:weight": 1,
        "width": 0.5,
        "x": 0.5,
        "y": 0
       },
       "content": {
        "cell": "6d8bfcaf-19e5-43ae-9c50-0604057a0b6a",
        "part": "whole"
       },
       "id": "29ed1050-eb29-47a3-a8df-23775555b5d0"
      },
      "5597f72d-36cb-44c9-a394-8f18327e4c86": {
       "attrs": {
        "height": 0.8333333333333334,
        "pad": 0.01,
        "width": 0.8333333333333334,
        "x": 0.08333333333333333,
        "y": 0.08333333333333333
       },
       "id": "5597f72d-36cb-44c9-a394-8f18327e4c86"
      }
     },
     "theme": null
    }
   },
   "themes": {}
  }
 },
 "nbformat": 4,
 "nbformat_minor": 1
}
